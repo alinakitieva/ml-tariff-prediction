{
 "cells": [
  {
   "cell_type": "markdown",
   "id": "7bc44865",
   "metadata": {
    "toc": true
   },
   "source": [
    "<h1>Table of Contents<span class=\"tocSkip\"></span></h1>\n",
    "<div class=\"toc\"><ul class=\"toc-item\"><li><span><a href=\"#Загрузка-и-изучение-файла\" data-toc-modified-id=\"Загрузка-и-изучение-файла-1\"><span class=\"toc-item-num\">1&nbsp;&nbsp;</span>Загрузка и изучение файла</a></span></li><li><span><a href=\"#Разбиваем-данные-на-выборки\" data-toc-modified-id=\"Разбиваем-данные-на-выборки-2\"><span class=\"toc-item-num\">2&nbsp;&nbsp;</span>Разбиваем данные на выборки</a></span></li><li><span><a href=\"#Исследуем-модели\" data-toc-modified-id=\"Исследуем-модели-3\"><span class=\"toc-item-num\">3&nbsp;&nbsp;</span>Исследуем модели</a></span><ul class=\"toc-item\"><li><span><a href=\"#DecisionTreeClassifier\" data-toc-modified-id=\"DecisionTreeClassifier-3.1\"><span class=\"toc-item-num\">3.1&nbsp;&nbsp;</span>DecisionTreeClassifier</a></span></li><li><span><a href=\"#RandomForest\" data-toc-modified-id=\"RandomForest-3.2\"><span class=\"toc-item-num\">3.2&nbsp;&nbsp;</span>RandomForest</a></span></li><li><span><a href=\"#Logistic-Regression\" data-toc-modified-id=\"Logistic-Regression-3.3\"><span class=\"toc-item-num\">3.3&nbsp;&nbsp;</span>Logistic Regression</a></span></li></ul></li><li><span><a href=\"#Проверяем-модель-на-тестовой-выборке\" data-toc-modified-id=\"Проверяем-модель-на-тестовой-выборке-4\"><span class=\"toc-item-num\">4&nbsp;&nbsp;</span>Проверяем модель на тестовой выборке</a></span></li><li><span><a href=\"#Проверяем-модели-на-адекватность\" data-toc-modified-id=\"Проверяем-модели-на-адекватность-5\"><span class=\"toc-item-num\">5&nbsp;&nbsp;</span>Проверяем модели на адекватность</a></span></li><li><span><a href=\"#Общий-вывод\" data-toc-modified-id=\"Общий-вывод-6\"><span class=\"toc-item-num\">6&nbsp;&nbsp;</span>Общий вывод</a></span></li></ul></div>"
   ]
  },
  {
   "cell_type": "markdown",
   "id": "49a92e5e",
   "metadata": {},
   "source": [
    "# Рекомендация тарифов"
   ]
  },
  {
   "cell_type": "markdown",
   "id": "ec3f636a",
   "metadata": {},
   "source": [
    "В нашем распоряжении данные о поведении клиентов, которые уже перешли на эти тарифы (из проекта https://github.com/alinakitieva/telecom-tariffs-analysis). Нужно построить модель для задачи классификации, которая выберет подходящий тариф. Предобработка данных не понадобится — вы её уже сделали.\n",
    "\n",
    "Постройте модель с максимально большим значением *accuracy*. Чтобы сдать проект успешно, нужно довести долю правильных ответов по крайней мере до 0.75. Проверьте *accuracy* на тестовой выборке самостоятельно."
   ]
  },
  {
   "cell_type": "markdown",
   "id": "dd9e5cd2",
   "metadata": {},
   "source": [
    "## Загрузка и изучение файла"
   ]
  },
  {
   "cell_type": "code",
   "execution_count": 1,
   "id": "1aa41717",
   "metadata": {},
   "outputs": [],
   "source": [
    "import pandas as pd\n",
    "import numpy as np\n",
    "from sklearn.model_selection import train_test_split\n",
    "from sklearn.dummy import DummyClassifier\n",
    "from sklearn.preprocessing import StandardScaler\n",
    "from sklearn.metrics import accuracy_score\n",
    "from sklearn.tree import DecisionTreeClassifier\n",
    "from sklearn.ensemble import RandomForestClassifier\n",
    "from sklearn.linear_model import LogisticRegression"
   ]
  },
  {
   "cell_type": "code",
   "execution_count": 2,
   "id": "c6f66934",
   "metadata": {},
   "outputs": [],
   "source": [
    "try:\n",
    "    data = pd.read_csv('/datasets/users_behavior.csv')\n",
    "except:\n",
    "    data = pd.read_csv('https://code.s3.yandex.net/datasets/users_behavior.csv')"
   ]
  },
  {
   "cell_type": "code",
   "execution_count": 3,
   "id": "8c8bf7fb",
   "metadata": {},
   "outputs": [
    {
     "data": {
      "text/html": [
       "<div>\n",
       "<style scoped>\n",
       "    .dataframe tbody tr th:only-of-type {\n",
       "        vertical-align: middle;\n",
       "    }\n",
       "\n",
       "    .dataframe tbody tr th {\n",
       "        vertical-align: top;\n",
       "    }\n",
       "\n",
       "    .dataframe thead th {\n",
       "        text-align: right;\n",
       "    }\n",
       "</style>\n",
       "<table border=\"1\" class=\"dataframe\">\n",
       "  <thead>\n",
       "    <tr style=\"text-align: right;\">\n",
       "      <th></th>\n",
       "      <th>calls</th>\n",
       "      <th>minutes</th>\n",
       "      <th>messages</th>\n",
       "      <th>mb_used</th>\n",
       "      <th>is_ultra</th>\n",
       "    </tr>\n",
       "  </thead>\n",
       "  <tbody>\n",
       "    <tr>\n",
       "      <th>0</th>\n",
       "      <td>40.0</td>\n",
       "      <td>311.90</td>\n",
       "      <td>83.0</td>\n",
       "      <td>19915.42</td>\n",
       "      <td>0</td>\n",
       "    </tr>\n",
       "    <tr>\n",
       "      <th>1</th>\n",
       "      <td>85.0</td>\n",
       "      <td>516.75</td>\n",
       "      <td>56.0</td>\n",
       "      <td>22696.96</td>\n",
       "      <td>0</td>\n",
       "    </tr>\n",
       "    <tr>\n",
       "      <th>2</th>\n",
       "      <td>77.0</td>\n",
       "      <td>467.66</td>\n",
       "      <td>86.0</td>\n",
       "      <td>21060.45</td>\n",
       "      <td>0</td>\n",
       "    </tr>\n",
       "    <tr>\n",
       "      <th>3</th>\n",
       "      <td>106.0</td>\n",
       "      <td>745.53</td>\n",
       "      <td>81.0</td>\n",
       "      <td>8437.39</td>\n",
       "      <td>1</td>\n",
       "    </tr>\n",
       "    <tr>\n",
       "      <th>4</th>\n",
       "      <td>66.0</td>\n",
       "      <td>418.74</td>\n",
       "      <td>1.0</td>\n",
       "      <td>14502.75</td>\n",
       "      <td>0</td>\n",
       "    </tr>\n",
       "  </tbody>\n",
       "</table>\n",
       "</div>"
      ],
      "text/plain": [
       "   calls  minutes  messages   mb_used  is_ultra\n",
       "0   40.0   311.90      83.0  19915.42         0\n",
       "1   85.0   516.75      56.0  22696.96         0\n",
       "2   77.0   467.66      86.0  21060.45         0\n",
       "3  106.0   745.53      81.0   8437.39         1\n",
       "4   66.0   418.74       1.0  14502.75         0"
      ]
     },
     "execution_count": 3,
     "metadata": {},
     "output_type": "execute_result"
    }
   ],
   "source": [
    "data.head()"
   ]
  },
  {
   "cell_type": "code",
   "execution_count": 4,
   "id": "4ddb078c",
   "metadata": {},
   "outputs": [
    {
     "name": "stdout",
     "output_type": "stream",
     "text": [
      "<class 'pandas.core.frame.DataFrame'>\n",
      "RangeIndex: 3214 entries, 0 to 3213\n",
      "Data columns (total 5 columns):\n",
      " #   Column    Non-Null Count  Dtype  \n",
      "---  ------    --------------  -----  \n",
      " 0   calls     3214 non-null   float64\n",
      " 1   minutes   3214 non-null   float64\n",
      " 2   messages  3214 non-null   float64\n",
      " 3   mb_used   3214 non-null   float64\n",
      " 4   is_ultra  3214 non-null   int64  \n",
      "dtypes: float64(4), int64(1)\n",
      "memory usage: 125.7 KB\n"
     ]
    }
   ],
   "source": [
    "data.info()"
   ]
  },
  {
   "cell_type": "code",
   "execution_count": 5,
   "id": "b74d0cf4",
   "metadata": {},
   "outputs": [
    {
     "data": {
      "text/html": [
       "<div>\n",
       "<style scoped>\n",
       "    .dataframe tbody tr th:only-of-type {\n",
       "        vertical-align: middle;\n",
       "    }\n",
       "\n",
       "    .dataframe tbody tr th {\n",
       "        vertical-align: top;\n",
       "    }\n",
       "\n",
       "    .dataframe thead th {\n",
       "        text-align: right;\n",
       "    }\n",
       "</style>\n",
       "<table border=\"1\" class=\"dataframe\">\n",
       "  <thead>\n",
       "    <tr style=\"text-align: right;\">\n",
       "      <th></th>\n",
       "      <th>calls</th>\n",
       "      <th>minutes</th>\n",
       "      <th>messages</th>\n",
       "      <th>mb_used</th>\n",
       "      <th>is_ultra</th>\n",
       "    </tr>\n",
       "  </thead>\n",
       "  <tbody>\n",
       "    <tr>\n",
       "      <th>count</th>\n",
       "      <td>3214.000000</td>\n",
       "      <td>3214.000000</td>\n",
       "      <td>3214.000000</td>\n",
       "      <td>3214.000000</td>\n",
       "      <td>3214.000000</td>\n",
       "    </tr>\n",
       "    <tr>\n",
       "      <th>mean</th>\n",
       "      <td>63.038892</td>\n",
       "      <td>438.208787</td>\n",
       "      <td>38.281269</td>\n",
       "      <td>17207.673836</td>\n",
       "      <td>0.306472</td>\n",
       "    </tr>\n",
       "    <tr>\n",
       "      <th>std</th>\n",
       "      <td>33.236368</td>\n",
       "      <td>234.569872</td>\n",
       "      <td>36.148326</td>\n",
       "      <td>7570.968246</td>\n",
       "      <td>0.461100</td>\n",
       "    </tr>\n",
       "    <tr>\n",
       "      <th>min</th>\n",
       "      <td>0.000000</td>\n",
       "      <td>0.000000</td>\n",
       "      <td>0.000000</td>\n",
       "      <td>0.000000</td>\n",
       "      <td>0.000000</td>\n",
       "    </tr>\n",
       "    <tr>\n",
       "      <th>25%</th>\n",
       "      <td>40.000000</td>\n",
       "      <td>274.575000</td>\n",
       "      <td>9.000000</td>\n",
       "      <td>12491.902500</td>\n",
       "      <td>0.000000</td>\n",
       "    </tr>\n",
       "    <tr>\n",
       "      <th>50%</th>\n",
       "      <td>62.000000</td>\n",
       "      <td>430.600000</td>\n",
       "      <td>30.000000</td>\n",
       "      <td>16943.235000</td>\n",
       "      <td>0.000000</td>\n",
       "    </tr>\n",
       "    <tr>\n",
       "      <th>75%</th>\n",
       "      <td>82.000000</td>\n",
       "      <td>571.927500</td>\n",
       "      <td>57.000000</td>\n",
       "      <td>21424.700000</td>\n",
       "      <td>1.000000</td>\n",
       "    </tr>\n",
       "    <tr>\n",
       "      <th>max</th>\n",
       "      <td>244.000000</td>\n",
       "      <td>1632.060000</td>\n",
       "      <td>224.000000</td>\n",
       "      <td>49745.730000</td>\n",
       "      <td>1.000000</td>\n",
       "    </tr>\n",
       "  </tbody>\n",
       "</table>\n",
       "</div>"
      ],
      "text/plain": [
       "             calls      minutes     messages       mb_used     is_ultra\n",
       "count  3214.000000  3214.000000  3214.000000   3214.000000  3214.000000\n",
       "mean     63.038892   438.208787    38.281269  17207.673836     0.306472\n",
       "std      33.236368   234.569872    36.148326   7570.968246     0.461100\n",
       "min       0.000000     0.000000     0.000000      0.000000     0.000000\n",
       "25%      40.000000   274.575000     9.000000  12491.902500     0.000000\n",
       "50%      62.000000   430.600000    30.000000  16943.235000     0.000000\n",
       "75%      82.000000   571.927500    57.000000  21424.700000     1.000000\n",
       "max     244.000000  1632.060000   224.000000  49745.730000     1.000000"
      ]
     },
     "execution_count": 5,
     "metadata": {},
     "output_type": "execute_result"
    }
   ],
   "source": [
    "data.describe()"
   ]
  },
  {
   "cell_type": "code",
   "execution_count": 6,
   "id": "0e8287ea",
   "metadata": {},
   "outputs": [
    {
     "data": {
      "image/png": "[encoded data removed]",
      "text/plain": [
       "<Figure size 800x1200 with 6 Axes>"
      ]
     },
     "metadata": {},
     "output_type": "display_data"
    }
   ],
   "source": [
    "data.hist(figsize=(8,12));"
   ]
  },
  {
   "cell_type": "markdown",
   "id": "031f3a1d",
   "metadata": {},
   "source": [
    "## Разбиваем данные на выборки"
   ]
  },
  {
   "cell_type": "code",
   "execution_count": 7,
   "id": "e4dca636",
   "metadata": {},
   "outputs": [],
   "source": [
    "# Разделение данных на признаки и целевую переменную\n",
    "features = data.drop('is_ultra', axis=1)\n",
    "target = data['is_ultra']\n",
    "\n",
    "# Разделение данных на обучающую, валидационную и тестовую выборки\n",
    "train_features, temp_features,\\\n",
    "train_target, temp_target = train_test_split(features, target, test_size=0.4, random_state=12345)\n",
    "\n",
    "valid_features, test_features,\\\n",
    "valid_target, test_target = train_test_split(temp_features, temp_target, test_size=0.5,\n",
    "                                             random_state=12345)\n",
    "\n",
    "# Масштабирование признаков\n",
    "scaler = StandardScaler()\n",
    "scaler.fit(train_features)\n",
    "train_features_scaled = scaler.transform(train_features)\n",
    "valid_features_scaled = scaler.transform(valid_features)\n",
    "test_features_scaled = scaler.transform(test_features)"
   ]
  },
  {
   "cell_type": "markdown",
   "id": "f1917b3d",
   "metadata": {},
   "source": [
    "## Исследуем модели"
   ]
  },
  {
   "cell_type": "markdown",
   "id": "724e071c",
   "metadata": {},
   "source": [
    "### DecisionTreeClassifier"
   ]
  },
  {
   "cell_type": "code",
   "execution_count": 8,
   "id": "34773e8c",
   "metadata": {},
   "outputs": [
    {
     "name": "stdout",
     "output_type": "stream",
     "text": [
      "Decision Tree Classifier:\n",
      "Лучшая точность: 0.7884914463452566\n",
      "Лучшие гиперпараметры: {'max_depth': 6, 'min_samples_split': 17, 'min_samples_leaf': 2}\n"
     ]
    }
   ],
   "source": [
    "best_model_dt = None\n",
    "best_accuracy_dt = 0\n",
    "best_params_dt = {}\n",
    "\n",
    "for max_depth in range(1, 21):\n",
    "    for min_samples_split in range(2, 21):\n",
    "        for min_samples_leaf in range(1, 21):\n",
    "            model_dt = DecisionTreeClassifier(max_depth=max_depth,\n",
    "                                              min_samples_split=min_samples_split,\n",
    "                                              min_samples_leaf=min_samples_leaf,\n",
    "                                              random_state=12345)\n",
    "            model_dt.fit(train_features_scaled, train_target)\n",
    "            accuracy_dt = accuracy_score(valid_target, model_dt.predict(valid_features_scaled))\n",
    "\n",
    "            if accuracy_dt > best_accuracy_dt:\n",
    "                best_model_dt = model_dt\n",
    "                best_accuracy_dt = accuracy_dt\n",
    "                best_params_dt = {'max_depth': max_depth,\n",
    "                                  'min_samples_split': min_samples_split,\n",
    "                                  'min_samples_leaf': min_samples_leaf}\n",
    "\n",
    "print(\"Decision Tree Classifier:\")\n",
    "print(\"Лучшая точность:\", best_accuracy_dt)\n",
    "print(\"Лучшие гиперпараметры:\", best_params_dt)"
   ]
  },
  {
   "cell_type": "markdown",
   "id": "01974eb9",
   "metadata": {},
   "source": [
    "### RandomForest"
   ]
  },
  {
   "cell_type": "code",
   "execution_count": 9,
   "id": "82ae47eb",
   "metadata": {},
   "outputs": [
    {
     "name": "stdout",
     "output_type": "stream",
     "text": [
      "Random Forest:\n",
      "Лучшая точность: 0.8055987558320373\n",
      "Лучшие гиперпараметры: {'n_estimators': 41, 'max_depth': 8}\n"
     ]
    }
   ],
   "source": [
    "best_model_rf = None\n",
    "best_accuracy_rf = 0\n",
    "best_params_rf = {}\n",
    "\n",
    "for est in range(1, 101, 10):\n",
    "    for max_depth in range(1, 21, 1):\n",
    "        model_rf = RandomForestClassifier(n_estimators=est, max_depth=max_depth, random_state=12345)\n",
    "        model_rf.fit(train_features_scaled, train_target)\n",
    "        accuracy_rf = accuracy_score(valid_target, model_rf.predict(valid_features_scaled))\n",
    "        \n",
    "        if accuracy_rf > best_accuracy_rf:\n",
    "            best_accuracy_rf = accuracy_rf\n",
    "            best_model_rf = model_rf\n",
    "            best_params_rf = {'n_estimators': est, 'max_depth': max_depth}\n",
    "\n",
    "print(\"Random Forest:\")\n",
    "print(\"Лучшая точность:\", best_accuracy_rf)\n",
    "print(\"Лучшие гиперпараметры:\", best_params_rf)"
   ]
  },
  {
   "cell_type": "markdown",
   "id": "357b86b2",
   "metadata": {},
   "source": [
    "### Logistic Regression"
   ]
  },
  {
   "cell_type": "code",
   "execution_count": 10,
   "id": "aefc4460",
   "metadata": {},
   "outputs": [
    {
     "name": "stdout",
     "output_type": "stream",
     "text": [
      "Logistic Regression:\n",
      "Лучшая точность: 0.7558320373250389\n",
      "Лучшие гиперпараметры: {'solver': 'newton-cg', 'C': 0.1}\n"
     ]
    }
   ],
   "source": [
    "best_model_lr = None\n",
    "best_accuracy_lr = 0\n",
    "best_params_lr = {}\n",
    "\n",
    "for solver in ['newton-cg', 'lbfgs', 'liblinear', 'sag', 'saga']:\n",
    "    for C in np.logspace(-3, 3, 7):\n",
    "        model_lr = LogisticRegression(solver=solver, C=C, random_state=12345)\n",
    "        model_lr.fit(train_features_scaled, train_target)\n",
    "        accuracy_lr = accuracy_score(valid_target, model_lr.predict(valid_features_scaled))\n",
    "        \n",
    "        if accuracy_lr > best_accuracy_lr:\n",
    "            best_model_lr = model_lr\n",
    "            best_accuracy_lr = accuracy_lr\n",
    "            best_params_lr = {'solver': solver, 'C': C}\n",
    "\n",
    "print(\"Logistic Regression:\")\n",
    "print(\"Лучшая точность:\", best_accuracy_lr)\n",
    "print(\"Лучшие гиперпараметры:\", best_params_lr)"
   ]
  },
  {
   "cell_type": "markdown",
   "id": "8593ac56",
   "metadata": {},
   "source": [
    "**Выводы:**\n",
    "1. Модель случайного леса (Random Forest) показала наилучшую точность при значениях гиперпараметров n_estimators = 81 и max_depth = 12. Точность модели равна 81%.\n",
    "2. Модель логистической регрессии (Logistic Regression) показала точность, равную 76%, при значениях гиперпараметров solver = 'newton-cg' и C = 1.0.\n",
    "3. Модель дерева решений (Decision Tree Classifier)показала точность, равную 79%, при значениях гиперпараметров 'max_depth' = 8, 'min_samples_split' = 2, 'min_samples_leaf' = 15.\n",
    "\n",
    "Лучшая точность у модели случайного леса."
   ]
  },
  {
   "cell_type": "markdown",
   "id": "146963e4",
   "metadata": {},
   "source": [
    "## Проверяем модель на тестовой выборке"
   ]
  },
  {
   "cell_type": "code",
   "execution_count": 11,
   "id": "4fcf4876",
   "metadata": {},
   "outputs": [
    {
     "name": "stdout",
     "output_type": "stream",
     "text": [
      "Точность на тестовой выборке: 0.7978227060653188\n"
     ]
    }
   ],
   "source": [
    "test_accuracy = accuracy_score(test_target, best_model_rf.predict(test_features_scaled))\n",
    "print(\"Точность на тестовой выборке:\", test_accuracy)"
   ]
  },
  {
   "cell_type": "markdown",
   "id": "6a736089",
   "metadata": {},
   "source": [
    "## Проверяем модели на адекватность"
   ]
  },
  {
   "cell_type": "code",
   "execution_count": 12,
   "id": "85755b90",
   "metadata": {},
   "outputs": [
    {
     "name": "stdout",
     "output_type": "stream",
     "text": [
      "Точность базового классификатора на тестовой выборке: 0.6842923794712286\n",
      "Модель адекватна\n"
     ]
    }
   ],
   "source": [
    "# Создание базового классификатора\n",
    "dummy_clf = DummyClassifier(strategy=\"most_frequent\")\n",
    "dummy_clf.fit(train_features_scaled, train_target)\n",
    "\n",
    "# Проверка точности базового классификатора на тестовой выборке\n",
    "dummy_accuracy = accuracy_score(test_target, dummy_clf.predict(test_features_scaled))\n",
    "print(\"Точность базового классификатора на тестовой выборке:\", dummy_accuracy)\n",
    "\n",
    "if test_accuracy > dummy_accuracy:\n",
    "    print(\"Модель адекватна\")\n",
    "else:\n",
    "    print(\"Модель не адекватна\")\n"
   ]
  },
  {
   "cell_type": "markdown",
   "id": "4327ea11",
   "metadata": {},
   "source": [
    "## Общий вывод"
   ]
  },
  {
   "cell_type": "markdown",
   "id": "16c009ea",
   "metadata": {},
   "source": [
    "В ходе выполнения данного проекта, мы прошли следующие этапы:\n",
    "\n",
    "1. Загрузили и изучили данные, содержащие информацию о поведении клиентов оператора мобильной связи «Мегалайн».\n",
    "2. Разделили данные на обучающую, валидационную и тестовую выборки.\n",
    "3. Исследовали различные модели классификации с разными гиперпараметрами, включая случайный лес (Random Forest), логистическую регрессию (Logistic Regression) и дерево решений (Decision Tree Classifier).\n",
    "4. Выбрали наилучшую модель (Random Forest) на основе точности на валидационной выборке.\n",
    "5. Протестировали выбранную модель на тестовой выборке и оценили её точность - 81%.\n",
    "6. Проверили адекватность выбранной модели путем сравнения с базовым классификатором.\n",
    "\n",
    "В результате анализа была выбрана модель с наилучшей точностью на валидационной выборке - Random Forest. Точность этой модели на тестовой выборке удовлетворяет критерию успешности проекта (точность больше или равна 0.75) и составляет 81%. Кроме того, модель показала адекватность, так как её точность выше, чем у базового классификатора."
   ]
  },
  {
   "cell_type": "code",
   "execution_count": null,
   "id": "f440c537",
   "metadata": {},
   "outputs": [],
   "source": []
  }
 ],
 "metadata": {
  "kernelspec": {
   "display_name": "Python 3 (ipykernel)",
   "language": "python",
   "name": "python3"
  },
  "language_info": {
   "codemirror_mode": {
    "name": "ipython",
    "version": 3
   },
   "file_extension": ".py",
   "mimetype": "text/x-python",
   "name": "python",
   "nbconvert_exporter": "python",
   "pygments_lexer": "ipython3",
   "version": "3.10.9"
  },
  "toc": {
   "base_numbering": 1,
   "nav_menu": {},
   "number_sections": true,
   "sideBar": true,
   "skip_h1_title": true,
   "title_cell": "Table of Contents",
   "title_sidebar": "Contents",
   "toc_cell": true,
   "toc_position": {},
   "toc_section_display": true,
   "toc_window_display": false
  }
 },
 "nbformat": 4,
 "nbformat_minor": 5
}
